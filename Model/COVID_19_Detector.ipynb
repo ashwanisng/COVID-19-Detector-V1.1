{
  "nbformat": 4,
  "nbformat_minor": 0,
  "metadata": {
    "colab": {
      "name": "COVID-19 Detector",
      "provenance": [],
      "collapsed_sections": []
    },
    "kernelspec": {
      "name": "python3",
      "display_name": "Python 3"
    },
    "accelerator": "GPU"
  },
  "cells": [
    {
      "cell_type": "code",
      "metadata": {
        "id": "bmKLq87IeHFO",
        "colab_type": "code",
        "colab": {}
      },
      "source": [
        "# dataset uploaded on dropbox\n",
        "# we will download our dataset by this link - http://cb.lk//covid_19\n",
        "\n",
        "\n",
        "!wget http://cb.lk//covid_19"
      ],
      "execution_count": null,
      "outputs": []
    },
    {
      "cell_type": "code",
      "metadata": {
        "id": "ZpCovPEhe4ZY",
        "colab_type": "code",
        "colab": {}
      },
      "source": [
        "# unzip the folder\n",
        "\n",
        "!unzip covid_19"
      ],
      "execution_count": null,
      "outputs": []
    },
    {
      "cell_type": "code",
      "metadata": {
        "id": "jbx5pr0Hfcxv",
        "colab_type": "code",
        "colab": {}
      },
      "source": [
        "# Train path \n",
        "\n",
        "TRAIN_PATH = \"CovidDataset/Train\"\n",
        "\n",
        "# Val path\n",
        "\n",
        "VAL_PATH = \"CovidDataset/Test\"\n"
      ],
      "execution_count": 41,
      "outputs": []
    },
    {
      "cell_type": "code",
      "metadata": {
        "id": "JkDW0G-xubm6",
        "colab_type": "code",
        "colab": {}
      },
      "source": [
        "# import\n",
        "\n",
        "import numpy as np\n",
        "import os\n",
        "import matplotlib.pyplot as plt\n",
        "import keras\n",
        "from keras.layers import *\n",
        "from keras.models import *\n",
        "from keras.preprocessing import image"
      ],
      "execution_count": 66,
      "outputs": []
    },
    {
      "cell_type": "markdown",
      "metadata": {
        "id": "HXs7yvaPu73i",
        "colab_type": "text"
      },
      "source": [
        "# CNN Based Model in Keras"
      ]
    },
    {
      "cell_type": "code",
      "metadata": {
        "id": "LVrAiR9evDE-",
        "colab_type": "code",
        "colab": {}
      },
      "source": [
        "\n",
        "model = Sequential()\n",
        "\n",
        "model.add(Conv2D(32, kernel_size=(3,3), activation='relu', input_shape = (224,224,3)))\n",
        "model.add(Conv2D(64, kernel_size=(3,3), activation='relu', ))\n",
        "model.add(MaxPooling2D(pool_size=(2,2)))\n",
        "model.add(Dropout(0.25))\n",
        "\n",
        "model.add(Conv2D(64, (3,3), activation='relu'))\n",
        "model.add(MaxPooling2D(pool_size=(2,2)))\n",
        "model.add(Dropout(0.25))\n",
        "\n",
        "model.add(Conv2D(128, (3,3), activation='relu'))\n",
        "model.add(MaxPooling2D(pool_size=(2,2)))\n",
        "model.add(Dropout(0.25))\n",
        "\n",
        "\n",
        "model.add(Flatten())\n",
        "model.add(Dense(64, activation='relu'))\n",
        "model.add(Dropout(0.5))\n",
        "model.add(Dense(1, activation='sigmoid'))\n",
        "\n",
        "model.compile(loss=keras.losses.binary_crossentropy, optimizer='adam', metrics=['accuracy'])"
      ],
      "execution_count": 43,
      "outputs": []
    },
    {
      "cell_type": "code",
      "metadata": {
        "id": "6ervWcJZxs7j",
        "colab_type": "code",
        "colab": {
          "base_uri": "https://localhost:8080/",
          "height": 622
        },
        "outputId": "89f5f8e4-f790-4910-e162-88eebbd3690c"
      },
      "source": [
        "model.summary()"
      ],
      "execution_count": 44,
      "outputs": [
        {
          "output_type": "stream",
          "text": [
            "Model: \"sequential_3\"\n",
            "_________________________________________________________________\n",
            "Layer (type)                 Output Shape              Param #   \n",
            "=================================================================\n",
            "conv2d_12 (Conv2D)           (None, 222, 222, 32)      896       \n",
            "_________________________________________________________________\n",
            "conv2d_13 (Conv2D)           (None, 220, 220, 64)      18496     \n",
            "_________________________________________________________________\n",
            "max_pooling2d_9 (MaxPooling2 (None, 110, 110, 64)      0         \n",
            "_________________________________________________________________\n",
            "dropout_12 (Dropout)         (None, 110, 110, 64)      0         \n",
            "_________________________________________________________________\n",
            "conv2d_14 (Conv2D)           (None, 108, 108, 64)      36928     \n",
            "_________________________________________________________________\n",
            "max_pooling2d_10 (MaxPooling (None, 54, 54, 64)        0         \n",
            "_________________________________________________________________\n",
            "dropout_13 (Dropout)         (None, 54, 54, 64)        0         \n",
            "_________________________________________________________________\n",
            "conv2d_15 (Conv2D)           (None, 52, 52, 128)       73856     \n",
            "_________________________________________________________________\n",
            "max_pooling2d_11 (MaxPooling (None, 26, 26, 128)       0         \n",
            "_________________________________________________________________\n",
            "dropout_14 (Dropout)         (None, 26, 26, 128)       0         \n",
            "_________________________________________________________________\n",
            "flatten_3 (Flatten)          (None, 86528)             0         \n",
            "_________________________________________________________________\n",
            "dense_6 (Dense)              (None, 64)                5537856   \n",
            "_________________________________________________________________\n",
            "dropout_15 (Dropout)         (None, 64)                0         \n",
            "_________________________________________________________________\n",
            "dense_7 (Dense)              (None, 1)                 65        \n",
            "=================================================================\n",
            "Total params: 5,668,097\n",
            "Trainable params: 5,668,097\n",
            "Non-trainable params: 0\n",
            "_________________________________________________________________\n"
          ],
          "name": "stdout"
        }
      ]
    },
    {
      "cell_type": "markdown",
      "metadata": {
        "id": "OtzvpWH2ymzf",
        "colab_type": "text"
      },
      "source": [
        "## Train the Model"
      ]
    },
    {
      "cell_type": "code",
      "metadata": {
        "id": "M7RtsfVxyOsM",
        "colab_type": "code",
        "colab": {
          "base_uri": "https://localhost:8080/",
          "height": 34
        },
        "outputId": "4ddcd2dc-5781-476c-fc43-fe7d34798dd9"
      },
      "source": [
        "# Train from Scratch\n",
        "\n",
        "train_datagen = image.ImageDataGenerator(\n",
        "    rescale = 1/255,\n",
        "    shear_range = 0.2,\n",
        "    zoom_range = 0.2,\n",
        "    horizontal_flip = True,\n",
        ")\n",
        "\n",
        "test_dataset  = image.ImageDataGenerator(rescale=1./255)\n",
        "\n",
        "\n",
        "train_generator  = train_datagen.flow_from_directory(\n",
        "    'CovidDataset/Train',\n",
        "    target_size = (224,224),\n",
        "    batch_size = 32,\n",
        "    class_mode = 'binary'\n",
        ")"
      ],
      "execution_count": 45,
      "outputs": [
        {
          "output_type": "stream",
          "text": [
            "Found 224 images belonging to 2 classes.\n"
          ],
          "name": "stdout"
        }
      ]
    },
    {
      "cell_type": "code",
      "metadata": {
        "id": "GKbDTNTF0UW6",
        "colab_type": "code",
        "colab": {
          "base_uri": "https://localhost:8080/",
          "height": 34
        },
        "outputId": "a9fa789c-b2ed-4958-f92a-3a842bd0f4e5"
      },
      "source": [
        "train_generator.class_indices\n"
      ],
      "execution_count": 46,
      "outputs": [
        {
          "output_type": "execute_result",
          "data": {
            "text/plain": [
              "{'Covid': 0, 'Normal': 1}"
            ]
          },
          "metadata": {
            "tags": []
          },
          "execution_count": 46
        }
      ]
    },
    {
      "cell_type": "code",
      "metadata": {
        "id": "mpp-f0Fo8q-q",
        "colab_type": "code",
        "colab": {
          "base_uri": "https://localhost:8080/",
          "height": 34
        },
        "outputId": "1082a4e7-a383-409f-9aa4-3fd66436646c"
      },
      "source": [
        "\n",
        "validation_generator = test_dataset.flow_from_directory(\n",
        "    'CovidDataset/Val',\n",
        "    target_size = (224,224),\n",
        "    batch_size = 32,\n",
        "    class_mode = 'binary'\n",
        "\n",
        ")"
      ],
      "execution_count": 47,
      "outputs": [
        {
          "output_type": "stream",
          "text": [
            "Found 60 images belonging to 2 classes.\n"
          ],
          "name": "stdout"
        }
      ]
    },
    {
      "cell_type": "code",
      "metadata": {
        "id": "BM0cllNKp6lb",
        "colab_type": "code",
        "colab": {
          "base_uri": "https://localhost:8080/",
          "height": 34
        },
        "outputId": "03321983-6cfe-4da1-a1fc-d82db9cdc36c"
      },
      "source": [
        "validation_generator.class_indices\n"
      ],
      "execution_count": 48,
      "outputs": [
        {
          "output_type": "execute_result",
          "data": {
            "text/plain": [
              "{'Covid': 0, 'Normal': 1}"
            ]
          },
          "metadata": {
            "tags": []
          },
          "execution_count": 48
        }
      ]
    },
    {
      "cell_type": "code",
      "metadata": {
        "id": "mhEwAyNA1jOS",
        "colab_type": "code",
        "colab": {
          "base_uri": "https://localhost:8080/",
          "height": 34
        },
        "outputId": "3830e0f5-d0db-4549-8979-17a5c8ae1db0"
      },
      "source": [
        "# number of training images we have are\n",
        "\n",
        "train_gen.n"
      ],
      "execution_count": 56,
      "outputs": [
        {
          "output_type": "execute_result",
          "data": {
            "text/plain": [
              "224"
            ]
          },
          "metadata": {
            "tags": []
          },
          "execution_count": 56
        }
      ]
    },
    {
      "cell_type": "code",
      "metadata": {
        "id": "B6KOyWab1tN0",
        "colab_type": "code",
        "colab": {
          "base_uri": "https://localhost:8080/",
          "height": 34
        },
        "outputId": "ddccf191-038e-4883-cb8a-2e52b7951f13"
      },
      "source": [
        "# number of test images we have are  \n",
        "\n",
        "validation_generator.n"
      ],
      "execution_count": 57,
      "outputs": [
        {
          "output_type": "execute_result",
          "data": {
            "text/plain": [
              "60"
            ]
          },
          "metadata": {
            "tags": []
          },
          "execution_count": 57
        }
      ]
    },
    {
      "cell_type": "code",
      "metadata": {
        "id": "PFg9JJmmtHfq",
        "colab_type": "code",
        "colab": {
          "base_uri": "https://localhost:8080/",
          "height": 353
        },
        "outputId": "e82d9b8d-8307-4e30-b9f4-2031973010c1"
      },
      "source": [
        "hist = model.fit_generator(\n",
        "    train_generator,\n",
        "    steps_per_epoch = 6,\n",
        "    epochs = 10,\n",
        "    validation_data = validation_generator,\n",
        "    validation_steps = 2\n",
        ")"
      ],
      "execution_count": 59,
      "outputs": [
        {
          "output_type": "stream",
          "text": [
            "Epoch 1/10\n",
            "6/6 [==============================] - 8s 1s/step - loss: 0.0967 - accuracy: 0.9635 - val_loss: 0.0472 - val_accuracy: 0.9833\n",
            "Epoch 2/10\n",
            "6/6 [==============================] - 7s 1s/step - loss: 0.1325 - accuracy: 0.9740 - val_loss: 0.0495 - val_accuracy: 0.9833\n",
            "Epoch 3/10\n",
            "6/6 [==============================] - 7s 1s/step - loss: 0.1860 - accuracy: 0.9323 - val_loss: 0.0679 - val_accuracy: 0.9667\n",
            "Epoch 4/10\n",
            "6/6 [==============================] - 8s 1s/step - loss: 0.1476 - accuracy: 0.9323 - val_loss: 0.1431 - val_accuracy: 0.9667\n",
            "Epoch 5/10\n",
            "6/6 [==============================] - 8s 1s/step - loss: 0.1811 - accuracy: 0.9271 - val_loss: 0.1638 - val_accuracy: 0.9833\n",
            "Epoch 6/10\n",
            "6/6 [==============================] - 8s 1s/step - loss: 0.1626 - accuracy: 0.9583 - val_loss: 0.0867 - val_accuracy: 0.9833\n",
            "Epoch 7/10\n",
            "6/6 [==============================] - 8s 1s/step - loss: 0.1882 - accuracy: 0.9531 - val_loss: 0.0682 - val_accuracy: 0.9667\n",
            "Epoch 8/10\n",
            "6/6 [==============================] - 8s 1s/step - loss: 0.1398 - accuracy: 0.9531 - val_loss: 0.1076 - val_accuracy: 0.9500\n",
            "Epoch 9/10\n",
            "6/6 [==============================] - 7s 1s/step - loss: 0.1943 - accuracy: 0.9531 - val_loss: 0.0967 - val_accuracy: 0.9833\n",
            "Epoch 10/10\n",
            "6/6 [==============================] - 8s 1s/step - loss: 0.1088 - accuracy: 0.9635 - val_loss: 0.0592 - val_accuracy: 0.9667\n"
          ],
          "name": "stdout"
        }
      ]
    },
    {
      "cell_type": "markdown",
      "metadata": {
        "id": "jdhN0wrc3NZN",
        "colab_type": "text"
      },
      "source": [
        "# Loss is very Less\n"
      ]
    },
    {
      "cell_type": "code",
      "metadata": {
        "id": "DfbKjFR71Het",
        "colab_type": "code",
        "colab": {}
      },
      "source": [
        "model.save('model_advance.h5')"
      ],
      "execution_count": 60,
      "outputs": []
    },
    {
      "cell_type": "code",
      "metadata": {
        "id": "VMzS_k383f02",
        "colab_type": "code",
        "colab": {
          "base_uri": "https://localhost:8080/",
          "height": 34
        },
        "outputId": "aecc35fc-e4b7-4b18-b9bd-2120f7f5d588"
      },
      "source": [
        "model.evaluate_generator(train_generator)"
      ],
      "execution_count": 62,
      "outputs": [
        {
          "output_type": "execute_result",
          "data": {
            "text/plain": [
              "[0.07416538149118423, 0.9776785969734192]"
            ]
          },
          "metadata": {
            "tags": []
          },
          "execution_count": 62
        }
      ]
    },
    {
      "cell_type": "markdown",
      "metadata": {
        "id": "01Xa6qs831jX",
        "colab_type": "text"
      },
      "source": [
        "# Test Images"
      ]
    },
    {
      "cell_type": "code",
      "metadata": {
        "id": "Q20hHMIE3qer",
        "colab_type": "code",
        "colab": {}
      },
      "source": [
        "model = load_model('model_advance.h5')"
      ],
      "execution_count": 63,
      "outputs": []
    },
    {
      "cell_type": "code",
      "metadata": {
        "id": "Fo840JWw3-VZ",
        "colab_type": "code",
        "colab": {
          "base_uri": "https://localhost:8080/",
          "height": 34
        },
        "outputId": "7cd3cc97-3ac0-4c2a-f74e-24e5f934a906"
      },
      "source": [
        "train_generator.class_indices"
      ],
      "execution_count": 64,
      "outputs": [
        {
          "output_type": "execute_result",
          "data": {
            "text/plain": [
              "{'Covid': 0, 'Normal': 1}"
            ]
          },
          "metadata": {
            "tags": []
          },
          "execution_count": 64
        }
      ]
    },
    {
      "cell_type": "code",
      "metadata": {
        "id": "4KxbXw3p4HHn",
        "colab_type": "code",
        "colab": {}
      },
      "source": [
        "\n",
        "y_actual = []\n",
        "y_test = []"
      ],
      "execution_count": 65,
      "outputs": []
    },
    {
      "cell_type": "code",
      "metadata": {
        "id": "6Cr9-HvW4MbA",
        "colab_type": "code",
        "colab": {}
      },
      "source": [
        "for i in os.listdir(\"./CovidDataset/Val/Normal/\"):\n",
        "    img = image.load_img(\"./CovidDataset/Val/Normal/\" + i , target_size=(224,224) )\n",
        "    img = image.img_to_array(img)\n",
        "    img = np.expand_dims(img, axis=0)\n",
        "    p= model.predict_classes(img)\n",
        "    y_test.append(p[0,0])\n",
        "    y_actual.append(1)"
      ],
      "execution_count": 69,
      "outputs": []
    },
    {
      "cell_type": "code",
      "metadata": {
        "id": "P_DTDZa14dun",
        "colab_type": "code",
        "colab": {}
      },
      "source": [
        "\n",
        "for i in os.listdir(\"./CovidDataset/Val/Covid/\"):\n",
        "    img = image.load_img(\"./CovidDataset/Val/Covid/\"+ i, target_size=(224, 224))\n",
        "    img = image.img_to_array(img)\n",
        "    img = np.expand_dims(img, axis=0)\n",
        "    p = model.predict_classes(img)\n",
        "    y_test.append(p[0,0])\n",
        "    y_actual.append(0)\n"
      ],
      "execution_count": 70,
      "outputs": []
    },
    {
      "cell_type": "code",
      "metadata": {
        "id": "P18gBdUs554o",
        "colab_type": "code",
        "colab": {}
      },
      "source": [
        "y_actual = np.array(y_actual)\n",
        "y_test = np.array(y_test)"
      ],
      "execution_count": 71,
      "outputs": []
    },
    {
      "cell_type": "markdown",
      "metadata": {
        "id": "WBH0MeVD6SbC",
        "colab_type": "text"
      },
      "source": [
        "# Confusion Matrix"
      ]
    },
    {
      "cell_type": "code",
      "metadata": {
        "id": "cX-GO7e26JXG",
        "colab_type": "code",
        "colab": {
          "base_uri": "https://localhost:8080/",
          "height": 70
        },
        "outputId": "19ce84f6-5441-4438-d0b2-6311dc5ecc16"
      },
      "source": [
        "from sklearn.metrics import confusion_matrix\n",
        "import seaborn as sns"
      ],
      "execution_count": 76,
      "outputs": [
        {
          "output_type": "stream",
          "text": [
            "/usr/local/lib/python3.6/dist-packages/statsmodels/tools/_testing.py:19: FutureWarning: pandas.util.testing is deprecated. Use the functions in the public API at pandas.testing instead.\n",
            "  import pandas.util.testing as tm\n"
          ],
          "name": "stderr"
        }
      ]
    },
    {
      "cell_type": "code",
      "metadata": {
        "id": "gGAOJyxK6K_V",
        "colab_type": "code",
        "colab": {}
      },
      "source": [
        "cm = confusion_matrix(y_actual, y_test)"
      ],
      "execution_count": 77,
      "outputs": []
    },
    {
      "cell_type": "code",
      "metadata": {
        "id": "In_sD1wQ6M7p",
        "colab_type": "code",
        "colab": {
          "base_uri": "https://localhost:8080/",
          "height": 286
        },
        "outputId": "54200a18-1690-458f-fa3f-9c735e1aadb5"
      },
      "source": [
        "sns.heatmap(cm, cmap='plasma', annot=True)\n"
      ],
      "execution_count": 78,
      "outputs": [
        {
          "output_type": "execute_result",
          "data": {
            "text/plain": [
              "<matplotlib.axes._subplots.AxesSubplot at 0x7ff38634b978>"
            ]
          },
          "metadata": {
            "tags": []
          },
          "execution_count": 78
        },
        {
          "output_type": "display_data",
          "data": {
            "image/png": "[encoded data removed]",
            "text/plain": [
              "<Figure size 432x288 with 2 Axes>"
            ]
          },
          "metadata": {
            "tags": [],
            "needs_background": "light"
          }
        }
      ]
    },
    {
      "cell_type": "code",
      "metadata": {
        "id": "syHewdcI6sfd",
        "colab_type": "code",
        "colab": {}
      },
      "source": [
        ""
      ],
      "execution_count": null,
      "outputs": []
    }
  ]
}